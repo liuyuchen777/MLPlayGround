{
 "metadata": {
  "language_info": {
   "codemirror_mode": {
    "name": "ipython",
    "version": 3
   },
   "file_extension": ".py",
   "mimetype": "text/x-python",
   "name": "python",
   "nbconvert_exporter": "python",
   "pygments_lexer": "ipython3",
   "version": "3.8.5-final"
  },
  "orig_nbformat": 2,
  "kernelspec": {
   "name": "python3",
   "display_name": "Python 3",
   "language": "python"
  }
 },
 "nbformat": 4,
 "nbformat_minor": 2,
 "cells": [
  {
   "cell_type": "code",
   "execution_count": 1,
   "metadata": {},
   "outputs": [],
   "source": [
    "import numpy as np \n",
    "import matplotlib.pyplot as plt "
   ]
  },
  {
   "cell_type": "code",
   "execution_count": 2,
   "metadata": {},
   "outputs": [
    {
     "output_type": "stream",
     "name": "stdout",
     "text": [
      "5.378286864740096 \t 1.7428240471109504\n0.14310095203489143\n0.06613947074439065\n"
     ]
    }
   ],
   "source": [
    "# one-dimension regression\n",
    "\n",
    "# y = w * x + b\n",
    "# w -> 5\n",
    "# b -> 2\n",
    "w = 5\n",
    "b = 2\n",
    "x = np.random.rand(100)\n",
    "y = np.zeros(100)\n",
    "\n",
    "for i in range(100):\n",
    "    y[i] = w * x[i] + b\n",
    "\n",
    "# add noise to y\n",
    "y2 = y + np.random.normal(0, 1, 100)\n",
    "# calculate w and b\n",
    "x_sum = 0\n",
    "x_square_sum = 0\n",
    "x_mean = 0\n",
    "for i in range(100):\n",
    "    x_sum += x[i]\n",
    "    x_square_sum += x[i]**2\n",
    "x_mean = x_sum / 100\n",
    "\n",
    "# real\n",
    "up = 0\n",
    "w_predict = 0\n",
    "for i in range(100):\n",
    "    up = up + (y2[i] * (x[i] - x_mean))\n",
    "w_predict = up / (x_square_sum - x_sum**2 / 100)\n",
    "\n",
    "val = 0\n",
    "for i in range(100):\n",
    "    val = val + (y2[i]-w_predict * x[i])\n",
    "b_predict = val / 100\n",
    "\n",
    "print(w_predict, '\\t', b_predict)\n",
    "print((w-w_predict)**2)\n",
    "print((b-b_predict)**2)\n"
   ]
  },
  {
   "cell_type": "code",
   "execution_count": null,
   "metadata": {},
   "outputs": [],
   "source": [
    "# multi-linear regression\n",
    "\n",
    "# y = w' * x\n",
    "# data size -> m (100); w size -> d (5)  \n",
    "# w -> d * 1\n",
    "# x -> d * m\n",
    "# b -> 1 * m\n",
    "# y -> 1 * m\n",
    "# suppose form: y = 3 * x1 + x2 + 2.6 * x3 + 3.7 * x4 + 5 * x5\n",
    "x = np.random.rand(100, 5) * 5\n",
    "w = np.matrix([3, 1, 2.6, 3.7, 5])\n",
    "print(w.shape)\n",
    "y = x.dot(np.transpose(w))\n",
    "# add noise to y\n",
    "y2 = y + np.random.normal(0, 1, (100,1))\n",
    "w_predict = np.linalg.inv(np.transpose(x).dot(x)).dot(np.transpose(x)).dot(y)\n",
    "error = 0\n",
    "\n",
    "for i in range(5):\n",
    "    error = (w[0, i]-w_predict[i, 0])**2\n",
    "\n",
    "print(error)"
   ]
  }
 ]
}